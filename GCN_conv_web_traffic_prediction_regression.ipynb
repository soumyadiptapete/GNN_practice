{
  "nbformat": 4,
  "nbformat_minor": 0,
  "metadata": {
    "colab": {
      "provenance": [],
      "authorship_tag": "ABX9TyOaaRF/dgp2CEe6uVbXCEfD",
      "include_colab_link": true
    },
    "kernelspec": {
      "name": "python3",
      "display_name": "Python 3"
    },
    "language_info": {
      "name": "python"
    }
  },
  "cells": [
    {
      "cell_type": "markdown",
      "metadata": {
        "id": "view-in-github",
        "colab_type": "text"
      },
      "source": [
        "<a href=\"https://colab.research.google.com/github/soumyadiptapete/GNN_practice/blob/main/GCN_conv_web_traffic_prediction_regression.ipynb\" target=\"_parent\"><img src=\"https://colab.research.google.com/assets/colab-badge.svg\" alt=\"Open In Colab\"/></a>"
      ]
    },
    {
      "cell_type": "code",
      "execution_count": 18,
      "metadata": {
        "colab": {
          "base_uri": "https://localhost:8080/"
        },
        "id": "uI0_vRRUXTJp",
        "outputId": "5baf6d61-c737-4486-ccfa-b9f6209fa477"
      },
      "outputs": [
        {
          "output_type": "stream",
          "name": "stdout",
          "text": [
            "Requirement already satisfied: torch-geometric in /usr/local/lib/python3.10/dist-packages (2.4.0)\n",
            "Requirement already satisfied: tqdm in /usr/local/lib/python3.10/dist-packages (from torch-geometric) (4.66.1)\n",
            "Requirement already satisfied: numpy in /usr/local/lib/python3.10/dist-packages (from torch-geometric) (1.23.5)\n",
            "Requirement already satisfied: scipy in /usr/local/lib/python3.10/dist-packages (from torch-geometric) (1.11.3)\n",
            "Requirement already satisfied: jinja2 in /usr/local/lib/python3.10/dist-packages (from torch-geometric) (3.1.2)\n",
            "Requirement already satisfied: requests in /usr/local/lib/python3.10/dist-packages (from torch-geometric) (2.31.0)\n",
            "Requirement already satisfied: pyparsing in /usr/local/lib/python3.10/dist-packages (from torch-geometric) (3.1.1)\n",
            "Requirement already satisfied: scikit-learn in /usr/local/lib/python3.10/dist-packages (from torch-geometric) (1.2.2)\n",
            "Requirement already satisfied: psutil>=5.8.0 in /usr/local/lib/python3.10/dist-packages (from torch-geometric) (5.9.5)\n",
            "Requirement already satisfied: MarkupSafe>=2.0 in /usr/local/lib/python3.10/dist-packages (from jinja2->torch-geometric) (2.1.3)\n",
            "Requirement already satisfied: charset-normalizer<4,>=2 in /usr/local/lib/python3.10/dist-packages (from requests->torch-geometric) (3.3.1)\n",
            "Requirement already satisfied: idna<4,>=2.5 in /usr/local/lib/python3.10/dist-packages (from requests->torch-geometric) (3.4)\n",
            "Requirement already satisfied: urllib3<3,>=1.21.1 in /usr/local/lib/python3.10/dist-packages (from requests->torch-geometric) (2.0.7)\n",
            "Requirement already satisfied: certifi>=2017.4.17 in /usr/local/lib/python3.10/dist-packages (from requests->torch-geometric) (2023.7.22)\n",
            "Requirement already satisfied: joblib>=1.1.1 in /usr/local/lib/python3.10/dist-packages (from scikit-learn->torch-geometric) (1.3.2)\n",
            "Requirement already satisfied: threadpoolctl>=2.0.0 in /usr/local/lib/python3.10/dist-packages (from scikit-learn->torch-geometric) (3.2.0)\n"
          ]
        }
      ],
      "source": [
        "#predict average monthly web traffice on the chameleon dataset for each webpage reprrseented by a anode. the node features represent the presence of the words\n",
        "!pip install torch-geometric\n",
        "from torch_geometric.datasets import WikipediaNetwork\n",
        "import torch_geometric.transforms as T\n",
        "dataset= WikipediaNetwork(root='.',name='chameleon', transform=T.RandomNodeSplit(num_val=200, num_test=500))\n",
        "data=dataset[0]"
      ]
    },
    {
      "cell_type": "code",
      "source": [
        "print(f'is directed: {data.is_directed()}')\n",
        "print(f'number of nodes {data.x.shape[0]}')\n",
        "print(f'data has isolated nodes {data.has_isolated_nodes()}')\n",
        "print(f'data has loop: {data.has_self_loops()}')"
      ],
      "metadata": {
        "colab": {
          "base_uri": "https://localhost:8080/"
        },
        "id": "F6KRYBnpYeQG",
        "outputId": "e599ff20-3465-4c50-b8bd-235a9b141ce6"
      },
      "execution_count": 19,
      "outputs": [
        {
          "output_type": "stream",
          "name": "stdout",
          "text": [
            "is directed: True\n",
            "number of nodes 2277\n",
            "data has isolated nodes False\n",
            "data has loop: True\n"
          ]
        }
      ]
    },
    {
      "cell_type": "code",
      "source": [
        "data.y"
      ],
      "metadata": {
        "colab": {
          "base_uri": "https://localhost:8080/"
        },
        "id": "xTT9Nfg-aPHn",
        "outputId": "aed4fb61-a316-485a-db2f-919dc6fff606"
      },
      "execution_count": 20,
      "outputs": [
        {
          "output_type": "execute_result",
          "data": {
            "text/plain": [
              "tensor([0, 3, 3,  ..., 0, 4, 0])"
            ]
          },
          "metadata": {},
          "execution_count": 20
        }
      ]
    },
    {
      "cell_type": "code",
      "source": [
        "#dwonlaod zipfile and open target file\n",
        "import urllib.request\n",
        "import zipfile\n",
        "\n",
        "url = 'https://snap.stanford.edu/data/wikipedia.zip'\n",
        "filehandle, _ = urllib.request.urlretrieve(url)\n",
        "zip_file_object = zipfile.ZipFile(filehandle, 'r')\n",
        "print(zip_file_object.namelist())\n",
        "file = zip_file_object.open(first_file)\n",
        "content = file.read()"
      ],
      "metadata": {
        "colab": {
          "base_uri": "https://localhost:8080/"
        },
        "id": "goSQhQf3bKBe",
        "outputId": "7b186dce-fa0c-4eef-ae61-8328b5d924fb"
      },
      "execution_count": 21,
      "outputs": [
        {
          "output_type": "stream",
          "name": "stdout",
          "text": [
            "['wikipedia/', 'wikipedia/chameleon/', 'wikipedia/chameleon/musae_chameleon_edges.csv', 'wikipedia/chameleon/musae_chameleon_features.json', 'wikipedia/chameleon/musae_chameleon_target.csv', 'wikipedia/crocodile/', 'wikipedia/crocodile/musae_crocodile_edges.csv', 'wikipedia/crocodile/musae_crocodile_features.json', 'wikipedia/crocodile/musae_crocodile_target.csv', 'wikipedia/squirrel/', 'wikipedia/squirrel/musae_squirrel_edges.csv', 'wikipedia/squirrel/musae_squirrel_features.json', 'wikipedia/squirrel/musae_squirrel_target.csv', 'wikipedia/citing.txt', 'wikipedia/README.txt']\n"
          ]
        }
      ]
    },
    {
      "cell_type": "code",
      "source": [
        "target_file=zip_file_object.namelist()[4]\n"
      ],
      "metadata": {
        "id": "PVRH6ZhKbQad"
      },
      "execution_count": 22,
      "outputs": []
    },
    {
      "cell_type": "code",
      "source": [
        "# import monthly web traffic from a webpage and convert it to target\n",
        "import pandas as pd\n",
        "import numpy as np\n",
        "import torch\n",
        "df=pd.read_csv(zip_file_object.open(target_file))\n",
        "values= np.log10(df['target'])\n",
        "data.y=torch.tensor(values)"
      ],
      "metadata": {
        "id": "i4eQ5f8RYiq9"
      },
      "execution_count": 23,
      "outputs": []
    },
    {
      "cell_type": "code",
      "source": [
        "from torch_geometric.nn import GCNConv\n",
        "from torch.nn import Linear\n",
        "import torch.nn.functional as F\n",
        "\n",
        "#create vanilla GNN\n",
        "class GNN(torch.nn.Module):\n",
        "  def __init__(self, dim_in,dim_h,dim_out):\n",
        "    super().__init__()\n",
        "    self.GNN1=GCNConv(dim_in,dim_h**4)\n",
        "    self.GNN2=GCNConv(dim_h**4,dim_h**2)\n",
        "    self.GNN3=GCNConv(dim_h**2,dim_h)\n",
        "    self.linear=Linear(dim_h,dim_out)\n",
        "\n",
        "  def forward(self,x,edge_index):\n",
        "    x=self.GNN1(x,edge_index)#N*dim_h\n",
        "    x=F.relu(x)\n",
        "    x=F.dropout(x,p=0.5)\n",
        "    x=self.GNN2(x,edge_index)#N*dim_out\n",
        "    x=F.relu(x)\n",
        "    x=F.dropout(x,p=0.5)\n",
        "    x=self.GNN3(x,edge_index)\n",
        "    x=self.linear(x)\n",
        "    return x.reshape(-1)\n",
        "\n",
        "\n",
        "  def fit(self,data,epochs):\n",
        "    criterion=torch.nn.MSELoss()\n",
        "    optimizer=torch.optim.Adam(self.parameters(), lr=0.01, weight_decay=5e-4)\n",
        "\n",
        "    y=data.y#labels\n",
        "\n",
        "\n",
        "    for epoch in range(epochs+1):\n",
        "      out=self(data.x,data.edge_index)#output of network forward pass\n",
        "      optimizer.zero_grad()\n",
        "      loss=criterion(out[data.train_mask],y[data.train_mask].float())\n",
        "      # print train loss and validation loss\n",
        "      if epoch%20==0:\n",
        "        val_loss=criterion(out[data.val_mask],y[data.val_mask])\n",
        "\n",
        "        print(f'Train Loss : {loss}')\n",
        "        print(f'Validation loss: {val_loss}')\n",
        "\n",
        "\n",
        "      loss.backward()\n",
        "      optimizer.step()\n",
        "\n",
        "  @torch.no_grad()\n",
        "  def test(self,data):\n",
        "    self.eval()\n",
        "    out=self(data.x,data.edge_index)\n",
        "    y_pred= out[data.test_mask]\n",
        "    y_actual=data.y[data.test_mask]\n",
        "    mse_test=F.mse_loss(y_pred,y_actual)\n",
        "    print(f'Test MSE : {mse_test}')"
      ],
      "metadata": {
        "id": "k2tfEiPPc8Cm"
      },
      "execution_count": 49,
      "outputs": []
    },
    {
      "cell_type": "code",
      "source": [
        "model=GNN(data.x.shape[1], 4, 1)\n",
        "model"
      ],
      "metadata": {
        "colab": {
          "base_uri": "https://localhost:8080/"
        },
        "id": "R_d7ebGlxOfc",
        "outputId": "2f31df2c-f131-4bdd-958d-9caef574c950"
      },
      "execution_count": 50,
      "outputs": [
        {
          "output_type": "execute_result",
          "data": {
            "text/plain": [
              "GNN(\n",
              "  (GNN1): GCNConv(2325, 256)\n",
              "  (GNN2): GCNConv(256, 16)\n",
              "  (GNN3): GCNConv(16, 4)\n",
              "  (linear): Linear(in_features=4, out_features=1, bias=True)\n",
              ")"
            ]
          },
          "metadata": {},
          "execution_count": 50
        }
      ]
    },
    {
      "cell_type": "code",
      "source": [
        "out=model(data.x,data.edge_index)\n",
        "print(out.shape)\n",
        "print(data.y.shape)"
      ],
      "metadata": {
        "colab": {
          "base_uri": "https://localhost:8080/"
        },
        "id": "c6-hAf0Px-Ym",
        "outputId": "03277e3a-3d27-42b9-b5ce-f4c8a6da3f5b"
      },
      "execution_count": 51,
      "outputs": [
        {
          "output_type": "stream",
          "name": "stdout",
          "text": [
            "torch.Size([2277])\n",
            "torch.Size([2277])\n"
          ]
        }
      ]
    },
    {
      "cell_type": "code",
      "source": [
        "model.fit(data,100)\n"
      ],
      "metadata": {
        "colab": {
          "base_uri": "https://localhost:8080/"
        },
        "id": "DHpaSBhwyMk6",
        "outputId": "3fc4917f-9b6b-444d-c5b6-5024572e8e3e"
      },
      "execution_count": 52,
      "outputs": [
        {
          "output_type": "stream",
          "name": "stdout",
          "text": [
            "Train Loss : 11.285555839538574\n",
            "Validation loss: 12.062327686696841\n",
            "Train Loss : 4.538243770599365\n",
            "Validation loss: 5.136261933357084\n",
            "Train Loss : 3.3488004207611084\n",
            "Validation loss: 4.70721158802647\n",
            "Train Loss : 2.425440549850464\n",
            "Validation loss: 3.9853792418754033\n",
            "Train Loss : 1.5200341939926147\n",
            "Validation loss: 3.3479700577522133\n",
            "Train Loss : 0.8074051141738892\n",
            "Validation loss: 3.8952602254462096\n"
          ]
        }
      ]
    }
  ]
}