{
  "nbformat": 4,
  "nbformat_minor": 0,
  "metadata": {
    "colab": {
      "provenance": [],
      "authorship_tag": "ABX9TyON0drc0I1uwhirulx+qUUv",
      "include_colab_link": true
    },
    "kernelspec": {
      "name": "python3",
      "display_name": "Python 3"
    },
    "language_info": {
      "name": "python"
    }
  },
  "cells": [
    {
      "cell_type": "markdown",
      "metadata": {
        "id": "view-in-github",
        "colab_type": "text"
      },
      "source": [
        "<a href=\"https://colab.research.google.com/github/soumyadiptapete/GNN_practice/blob/main/vanilla_GNN.ipynb\" target=\"_parent\"><img src=\"https://colab.research.google.com/assets/colab-badge.svg\" alt=\"Open In Colab\"/></a>"
      ]
    },
    {
      "cell_type": "code",
      "execution_count": 1,
      "metadata": {
        "colab": {
          "base_uri": "https://localhost:8080/"
        },
        "id": "ZUIaXBFcAT8P",
        "outputId": "d16da511-db36-4fe5-e25e-2d820319cfa9"
      },
      "outputs": [
        {
          "output_type": "stream",
          "name": "stdout",
          "text": [
            "Requirement already satisfied: torch-geometric in /usr/local/lib/python3.10/dist-packages (2.4.0)\n",
            "Requirement already satisfied: tqdm in /usr/local/lib/python3.10/dist-packages (from torch-geometric) (4.66.1)\n",
            "Requirement already satisfied: numpy in /usr/local/lib/python3.10/dist-packages (from torch-geometric) (1.23.5)\n",
            "Requirement already satisfied: scipy in /usr/local/lib/python3.10/dist-packages (from torch-geometric) (1.11.3)\n",
            "Requirement already satisfied: jinja2 in /usr/local/lib/python3.10/dist-packages (from torch-geometric) (3.1.2)\n",
            "Requirement already satisfied: requests in /usr/local/lib/python3.10/dist-packages (from torch-geometric) (2.31.0)\n",
            "Requirement already satisfied: pyparsing in /usr/local/lib/python3.10/dist-packages (from torch-geometric) (3.1.1)\n",
            "Requirement already satisfied: scikit-learn in /usr/local/lib/python3.10/dist-packages (from torch-geometric) (1.2.2)\n",
            "Requirement already satisfied: psutil>=5.8.0 in /usr/local/lib/python3.10/dist-packages (from torch-geometric) (5.9.5)\n",
            "Requirement already satisfied: MarkupSafe>=2.0 in /usr/local/lib/python3.10/dist-packages (from jinja2->torch-geometric) (2.1.3)\n",
            "Requirement already satisfied: charset-normalizer<4,>=2 in /usr/local/lib/python3.10/dist-packages (from requests->torch-geometric) (3.3.0)\n",
            "Requirement already satisfied: idna<4,>=2.5 in /usr/local/lib/python3.10/dist-packages (from requests->torch-geometric) (3.4)\n",
            "Requirement already satisfied: urllib3<3,>=1.21.1 in /usr/local/lib/python3.10/dist-packages (from requests->torch-geometric) (2.0.7)\n",
            "Requirement already satisfied: certifi>=2017.4.17 in /usr/local/lib/python3.10/dist-packages (from requests->torch-geometric) (2023.7.22)\n",
            "Requirement already satisfied: joblib>=1.1.1 in /usr/local/lib/python3.10/dist-packages (from scikit-learn->torch-geometric) (1.3.2)\n",
            "Requirement already satisfied: threadpoolctl>=2.0.0 in /usr/local/lib/python3.10/dist-packages (from scikit-learn->torch-geometric) (3.2.0)\n",
            "is directed: False\n",
            "number of nodes 22470\n",
            "data has isolated nodes False\n",
            "data has loop: True\n"
          ]
        }
      ],
      "source": [
        "!pip install torch-geometric\n",
        "from torch_geometric.datasets import FacebookPagePage\n",
        "dataset=FacebookPagePage(root='.')\n",
        "data=dataset[0]\n",
        "print(f'is directed: {data.is_directed()}')\n",
        "print(f'number of nodes {data.x.shape[0]}')\n",
        "print(f'data has isolated nodes {data.has_isolated_nodes()}')\n",
        "print(f'data has loop: {data.has_self_loops()}')"
      ]
    },
    {
      "cell_type": "code",
      "source": [
        "# make dataset as table with dims Nxd\n",
        "import pandas as pd\n",
        "df_x=pd.DataFrame(data.x.numpy())\n",
        "df_x['label']=pd.DataFrame(data.y)\n",
        "df_x.head()"
      ],
      "metadata": {
        "colab": {
          "base_uri": "https://localhost:8080/",
          "height": 236
        },
        "id": "kZQ5St3uAdy6",
        "outputId": "590e7aac-6fd3-43a6-b48f-70ca2f4e08ab"
      },
      "execution_count": 2,
      "outputs": [
        {
          "output_type": "execute_result",
          "data": {
            "text/plain": [
              "          0         1         2         3         4         5         6  \\\n",
              "0 -0.262576 -0.276483 -0.262350 -0.299327 -0.299159 -0.270681 -0.307757   \n",
              "1 -0.262576 -0.276483 -0.262350 -0.299327 -0.299159 -0.270681 -0.307757   \n",
              "2 -0.262576 -0.265053 -0.262350 -0.299327 -0.299159 -0.270681 -0.307757   \n",
              "3 -0.246378 -0.276483 -0.241991 -0.299327 -0.299159 -0.270681 -0.307051   \n",
              "4 -0.262576 -0.276483 -0.262350 -0.299327 -0.299159 -0.270681 -0.307757   \n",
              "\n",
              "          7        8         9  ...       119       120       121       122  \\\n",
              "0 -0.269733 -0.25101 -0.308343  ... -0.273229 -0.223700 -0.284379 -0.224216   \n",
              "1 -0.269733 -0.25101 -0.308343  ... -0.234818 -0.223700 -0.284379 -0.197935   \n",
              "2 -0.210461 -0.25101  3.222161  ... -0.273229 -0.223700 -0.284379 -0.224216   \n",
              "3 -0.269733 -0.25101 -0.308343  ... -0.273229 -0.223700 -0.265534 -0.080353   \n",
              "4 -0.269733 -0.25101 -0.308343  ... -0.273229 -0.175312 -0.272613 -0.224216   \n",
              "\n",
              "        123       124      125       126       127  label  \n",
              "0 -0.209509 -0.255755 -0.21514 -0.375903 -0.223836      0  \n",
              "1 -0.147256 -0.255755 -0.21514 -0.364134 -0.128634      2  \n",
              "2 -0.209509 -0.255755 -0.21514 -0.375903 -0.223836      1  \n",
              "3 -0.209509 -0.250560 -0.18026 -0.375903 -0.223836      2  \n",
              "4 -0.181153 -0.255755 -0.21514 -0.370639 -0.223836      3  \n",
              "\n",
              "[5 rows x 129 columns]"
            ],
            "text/html": [
              "\n",
              "  <div id=\"df-0f72a358-4c34-4805-9926-67f4ca292bc3\" class=\"colab-df-container\">\n",
              "    <div>\n",
              "<style scoped>\n",
              "    .dataframe tbody tr th:only-of-type {\n",
              "        vertical-align: middle;\n",
              "    }\n",
              "\n",
              "    .dataframe tbody tr th {\n",
              "        vertical-align: top;\n",
              "    }\n",
              "\n",
              "    .dataframe thead th {\n",
              "        text-align: right;\n",
              "    }\n",
              "</style>\n",
              "<table border=\"1\" class=\"dataframe\">\n",
              "  <thead>\n",
              "    <tr style=\"text-align: right;\">\n",
              "      <th></th>\n",
              "      <th>0</th>\n",
              "      <th>1</th>\n",
              "      <th>2</th>\n",
              "      <th>3</th>\n",
              "      <th>4</th>\n",
              "      <th>5</th>\n",
              "      <th>6</th>\n",
              "      <th>7</th>\n",
              "      <th>8</th>\n",
              "      <th>9</th>\n",
              "      <th>...</th>\n",
              "      <th>119</th>\n",
              "      <th>120</th>\n",
              "      <th>121</th>\n",
              "      <th>122</th>\n",
              "      <th>123</th>\n",
              "      <th>124</th>\n",
              "      <th>125</th>\n",
              "      <th>126</th>\n",
              "      <th>127</th>\n",
              "      <th>label</th>\n",
              "    </tr>\n",
              "  </thead>\n",
              "  <tbody>\n",
              "    <tr>\n",
              "      <th>0</th>\n",
              "      <td>-0.262576</td>\n",
              "      <td>-0.276483</td>\n",
              "      <td>-0.262350</td>\n",
              "      <td>-0.299327</td>\n",
              "      <td>-0.299159</td>\n",
              "      <td>-0.270681</td>\n",
              "      <td>-0.307757</td>\n",
              "      <td>-0.269733</td>\n",
              "      <td>-0.25101</td>\n",
              "      <td>-0.308343</td>\n",
              "      <td>...</td>\n",
              "      <td>-0.273229</td>\n",
              "      <td>-0.223700</td>\n",
              "      <td>-0.284379</td>\n",
              "      <td>-0.224216</td>\n",
              "      <td>-0.209509</td>\n",
              "      <td>-0.255755</td>\n",
              "      <td>-0.21514</td>\n",
              "      <td>-0.375903</td>\n",
              "      <td>-0.223836</td>\n",
              "      <td>0</td>\n",
              "    </tr>\n",
              "    <tr>\n",
              "      <th>1</th>\n",
              "      <td>-0.262576</td>\n",
              "      <td>-0.276483</td>\n",
              "      <td>-0.262350</td>\n",
              "      <td>-0.299327</td>\n",
              "      <td>-0.299159</td>\n",
              "      <td>-0.270681</td>\n",
              "      <td>-0.307757</td>\n",
              "      <td>-0.269733</td>\n",
              "      <td>-0.25101</td>\n",
              "      <td>-0.308343</td>\n",
              "      <td>...</td>\n",
              "      <td>-0.234818</td>\n",
              "      <td>-0.223700</td>\n",
              "      <td>-0.284379</td>\n",
              "      <td>-0.197935</td>\n",
              "      <td>-0.147256</td>\n",
              "      <td>-0.255755</td>\n",
              "      <td>-0.21514</td>\n",
              "      <td>-0.364134</td>\n",
              "      <td>-0.128634</td>\n",
              "      <td>2</td>\n",
              "    </tr>\n",
              "    <tr>\n",
              "      <th>2</th>\n",
              "      <td>-0.262576</td>\n",
              "      <td>-0.265053</td>\n",
              "      <td>-0.262350</td>\n",
              "      <td>-0.299327</td>\n",
              "      <td>-0.299159</td>\n",
              "      <td>-0.270681</td>\n",
              "      <td>-0.307757</td>\n",
              "      <td>-0.210461</td>\n",
              "      <td>-0.25101</td>\n",
              "      <td>3.222161</td>\n",
              "      <td>...</td>\n",
              "      <td>-0.273229</td>\n",
              "      <td>-0.223700</td>\n",
              "      <td>-0.284379</td>\n",
              "      <td>-0.224216</td>\n",
              "      <td>-0.209509</td>\n",
              "      <td>-0.255755</td>\n",
              "      <td>-0.21514</td>\n",
              "      <td>-0.375903</td>\n",
              "      <td>-0.223836</td>\n",
              "      <td>1</td>\n",
              "    </tr>\n",
              "    <tr>\n",
              "      <th>3</th>\n",
              "      <td>-0.246378</td>\n",
              "      <td>-0.276483</td>\n",
              "      <td>-0.241991</td>\n",
              "      <td>-0.299327</td>\n",
              "      <td>-0.299159</td>\n",
              "      <td>-0.270681</td>\n",
              "      <td>-0.307051</td>\n",
              "      <td>-0.269733</td>\n",
              "      <td>-0.25101</td>\n",
              "      <td>-0.308343</td>\n",
              "      <td>...</td>\n",
              "      <td>-0.273229</td>\n",
              "      <td>-0.223700</td>\n",
              "      <td>-0.265534</td>\n",
              "      <td>-0.080353</td>\n",
              "      <td>-0.209509</td>\n",
              "      <td>-0.250560</td>\n",
              "      <td>-0.18026</td>\n",
              "      <td>-0.375903</td>\n",
              "      <td>-0.223836</td>\n",
              "      <td>2</td>\n",
              "    </tr>\n",
              "    <tr>\n",
              "      <th>4</th>\n",
              "      <td>-0.262576</td>\n",
              "      <td>-0.276483</td>\n",
              "      <td>-0.262350</td>\n",
              "      <td>-0.299327</td>\n",
              "      <td>-0.299159</td>\n",
              "      <td>-0.270681</td>\n",
              "      <td>-0.307757</td>\n",
              "      <td>-0.269733</td>\n",
              "      <td>-0.25101</td>\n",
              "      <td>-0.308343</td>\n",
              "      <td>...</td>\n",
              "      <td>-0.273229</td>\n",
              "      <td>-0.175312</td>\n",
              "      <td>-0.272613</td>\n",
              "      <td>-0.224216</td>\n",
              "      <td>-0.181153</td>\n",
              "      <td>-0.255755</td>\n",
              "      <td>-0.21514</td>\n",
              "      <td>-0.370639</td>\n",
              "      <td>-0.223836</td>\n",
              "      <td>3</td>\n",
              "    </tr>\n",
              "  </tbody>\n",
              "</table>\n",
              "<p>5 rows × 129 columns</p>\n",
              "</div>\n",
              "    <div class=\"colab-df-buttons\">\n",
              "\n",
              "  <div class=\"colab-df-container\">\n",
              "    <button class=\"colab-df-convert\" onclick=\"convertToInteractive('df-0f72a358-4c34-4805-9926-67f4ca292bc3')\"\n",
              "            title=\"Convert this dataframe to an interactive table.\"\n",
              "            style=\"display:none;\">\n",
              "\n",
              "  <svg xmlns=\"http://www.w3.org/2000/svg\" height=\"24px\" viewBox=\"0 -960 960 960\">\n",
              "    <path d=\"M120-120v-720h720v720H120Zm60-500h600v-160H180v160Zm220 220h160v-160H400v160Zm0 220h160v-160H400v160ZM180-400h160v-160H180v160Zm440 0h160v-160H620v160ZM180-180h160v-160H180v160Zm440 0h160v-160H620v160Z\"/>\n",
              "  </svg>\n",
              "    </button>\n",
              "\n",
              "  <style>\n",
              "    .colab-df-container {\n",
              "      display:flex;\n",
              "      gap: 12px;\n",
              "    }\n",
              "\n",
              "    .colab-df-convert {\n",
              "      background-color: #E8F0FE;\n",
              "      border: none;\n",
              "      border-radius: 50%;\n",
              "      cursor: pointer;\n",
              "      display: none;\n",
              "      fill: #1967D2;\n",
              "      height: 32px;\n",
              "      padding: 0 0 0 0;\n",
              "      width: 32px;\n",
              "    }\n",
              "\n",
              "    .colab-df-convert:hover {\n",
              "      background-color: #E2EBFA;\n",
              "      box-shadow: 0px 1px 2px rgba(60, 64, 67, 0.3), 0px 1px 3px 1px rgba(60, 64, 67, 0.15);\n",
              "      fill: #174EA6;\n",
              "    }\n",
              "\n",
              "    .colab-df-buttons div {\n",
              "      margin-bottom: 4px;\n",
              "    }\n",
              "\n",
              "    [theme=dark] .colab-df-convert {\n",
              "      background-color: #3B4455;\n",
              "      fill: #D2E3FC;\n",
              "    }\n",
              "\n",
              "    [theme=dark] .colab-df-convert:hover {\n",
              "      background-color: #434B5C;\n",
              "      box-shadow: 0px 1px 3px 1px rgba(0, 0, 0, 0.15);\n",
              "      filter: drop-shadow(0px 1px 2px rgba(0, 0, 0, 0.3));\n",
              "      fill: #FFFFFF;\n",
              "    }\n",
              "  </style>\n",
              "\n",
              "    <script>\n",
              "      const buttonEl =\n",
              "        document.querySelector('#df-0f72a358-4c34-4805-9926-67f4ca292bc3 button.colab-df-convert');\n",
              "      buttonEl.style.display =\n",
              "        google.colab.kernel.accessAllowed ? 'block' : 'none';\n",
              "\n",
              "      async function convertToInteractive(key) {\n",
              "        const element = document.querySelector('#df-0f72a358-4c34-4805-9926-67f4ca292bc3');\n",
              "        const dataTable =\n",
              "          await google.colab.kernel.invokeFunction('convertToInteractive',\n",
              "                                                    [key], {});\n",
              "        if (!dataTable) return;\n",
              "\n",
              "        const docLinkHtml = 'Like what you see? Visit the ' +\n",
              "          '<a target=\"_blank\" href=https://colab.research.google.com/notebooks/data_table.ipynb>data table notebook</a>'\n",
              "          + ' to learn more about interactive tables.';\n",
              "        element.innerHTML = '';\n",
              "        dataTable['output_type'] = 'display_data';\n",
              "        await google.colab.output.renderOutput(dataTable, element);\n",
              "        const docLink = document.createElement('div');\n",
              "        docLink.innerHTML = docLinkHtml;\n",
              "        element.appendChild(docLink);\n",
              "      }\n",
              "    </script>\n",
              "  </div>\n",
              "\n",
              "\n",
              "<div id=\"df-23b5d9ec-250a-42e1-81d7-05dab1c1d0ea\">\n",
              "  <button class=\"colab-df-quickchart\" onclick=\"quickchart('df-23b5d9ec-250a-42e1-81d7-05dab1c1d0ea')\"\n",
              "            title=\"Suggest charts.\"\n",
              "            style=\"display:none;\">\n",
              "\n",
              "<svg xmlns=\"http://www.w3.org/2000/svg\" height=\"24px\"viewBox=\"0 0 24 24\"\n",
              "     width=\"24px\">\n",
              "    <g>\n",
              "        <path d=\"M19 3H5c-1.1 0-2 .9-2 2v14c0 1.1.9 2 2 2h14c1.1 0 2-.9 2-2V5c0-1.1-.9-2-2-2zM9 17H7v-7h2v7zm4 0h-2V7h2v10zm4 0h-2v-4h2v4z\"/>\n",
              "    </g>\n",
              "</svg>\n",
              "  </button>\n",
              "\n",
              "<style>\n",
              "  .colab-df-quickchart {\n",
              "      --bg-color: #E8F0FE;\n",
              "      --fill-color: #1967D2;\n",
              "      --hover-bg-color: #E2EBFA;\n",
              "      --hover-fill-color: #174EA6;\n",
              "      --disabled-fill-color: #AAA;\n",
              "      --disabled-bg-color: #DDD;\n",
              "  }\n",
              "\n",
              "  [theme=dark] .colab-df-quickchart {\n",
              "      --bg-color: #3B4455;\n",
              "      --fill-color: #D2E3FC;\n",
              "      --hover-bg-color: #434B5C;\n",
              "      --hover-fill-color: #FFFFFF;\n",
              "      --disabled-bg-color: #3B4455;\n",
              "      --disabled-fill-color: #666;\n",
              "  }\n",
              "\n",
              "  .colab-df-quickchart {\n",
              "    background-color: var(--bg-color);\n",
              "    border: none;\n",
              "    border-radius: 50%;\n",
              "    cursor: pointer;\n",
              "    display: none;\n",
              "    fill: var(--fill-color);\n",
              "    height: 32px;\n",
              "    padding: 0;\n",
              "    width: 32px;\n",
              "  }\n",
              "\n",
              "  .colab-df-quickchart:hover {\n",
              "    background-color: var(--hover-bg-color);\n",
              "    box-shadow: 0 1px 2px rgba(60, 64, 67, 0.3), 0 1px 3px 1px rgba(60, 64, 67, 0.15);\n",
              "    fill: var(--button-hover-fill-color);\n",
              "  }\n",
              "\n",
              "  .colab-df-quickchart-complete:disabled,\n",
              "  .colab-df-quickchart-complete:disabled:hover {\n",
              "    background-color: var(--disabled-bg-color);\n",
              "    fill: var(--disabled-fill-color);\n",
              "    box-shadow: none;\n",
              "  }\n",
              "\n",
              "  .colab-df-spinner {\n",
              "    border: 2px solid var(--fill-color);\n",
              "    border-color: transparent;\n",
              "    border-bottom-color: var(--fill-color);\n",
              "    animation:\n",
              "      spin 1s steps(1) infinite;\n",
              "  }\n",
              "\n",
              "  @keyframes spin {\n",
              "    0% {\n",
              "      border-color: transparent;\n",
              "      border-bottom-color: var(--fill-color);\n",
              "      border-left-color: var(--fill-color);\n",
              "    }\n",
              "    20% {\n",
              "      border-color: transparent;\n",
              "      border-left-color: var(--fill-color);\n",
              "      border-top-color: var(--fill-color);\n",
              "    }\n",
              "    30% {\n",
              "      border-color: transparent;\n",
              "      border-left-color: var(--fill-color);\n",
              "      border-top-color: var(--fill-color);\n",
              "      border-right-color: var(--fill-color);\n",
              "    }\n",
              "    40% {\n",
              "      border-color: transparent;\n",
              "      border-right-color: var(--fill-color);\n",
              "      border-top-color: var(--fill-color);\n",
              "    }\n",
              "    60% {\n",
              "      border-color: transparent;\n",
              "      border-right-color: var(--fill-color);\n",
              "    }\n",
              "    80% {\n",
              "      border-color: transparent;\n",
              "      border-right-color: var(--fill-color);\n",
              "      border-bottom-color: var(--fill-color);\n",
              "    }\n",
              "    90% {\n",
              "      border-color: transparent;\n",
              "      border-bottom-color: var(--fill-color);\n",
              "    }\n",
              "  }\n",
              "</style>\n",
              "\n",
              "  <script>\n",
              "    async function quickchart(key) {\n",
              "      const quickchartButtonEl =\n",
              "        document.querySelector('#' + key + ' button');\n",
              "      quickchartButtonEl.disabled = true;  // To prevent multiple clicks.\n",
              "      quickchartButtonEl.classList.add('colab-df-spinner');\n",
              "      try {\n",
              "        const charts = await google.colab.kernel.invokeFunction(\n",
              "            'suggestCharts', [key], {});\n",
              "      } catch (error) {\n",
              "        console.error('Error during call to suggestCharts:', error);\n",
              "      }\n",
              "      quickchartButtonEl.classList.remove('colab-df-spinner');\n",
              "      quickchartButtonEl.classList.add('colab-df-quickchart-complete');\n",
              "    }\n",
              "    (() => {\n",
              "      let quickchartButtonEl =\n",
              "        document.querySelector('#df-23b5d9ec-250a-42e1-81d7-05dab1c1d0ea button');\n",
              "      quickchartButtonEl.style.display =\n",
              "        google.colab.kernel.accessAllowed ? 'block' : 'none';\n",
              "    })();\n",
              "  </script>\n",
              "</div>\n",
              "    </div>\n",
              "  </div>\n"
            ]
          },
          "metadata": {},
          "execution_count": 2
        }
      ]
    },
    {
      "cell_type": "code",
      "source": [
        "data.train_mask=range(18000)\n",
        "data.val_mask=range(18001,20000)\n",
        "data.test_mask=range(20001,22470)\n"
      ],
      "metadata": {
        "id": "vXM0lvxsI6lo"
      },
      "execution_count": 3,
      "outputs": []
    },
    {
      "cell_type": "code",
      "source": [
        "data.y.shape"
      ],
      "metadata": {
        "colab": {
          "base_uri": "https://localhost:8080/"
        },
        "id": "KGaokaH_MHMw",
        "outputId": "d7f0e031-867d-4539-bac5-661b762966fa"
      },
      "execution_count": 4,
      "outputs": [
        {
          "output_type": "execute_result",
          "data": {
            "text/plain": [
              "torch.Size([22470])"
            ]
          },
          "metadata": {},
          "execution_count": 4
        }
      ]
    },
    {
      "cell_type": "code",
      "source": [
        "def accuracy(y_pred, y_true):\n",
        "    \"\"\"Calculate accuracy.\"\"\"\n",
        "    return torch.sum(y_pred == y_true) / len(y_true)"
      ],
      "metadata": {
        "id": "G-NpXkyTdwbb"
      },
      "execution_count": 5,
      "outputs": []
    },
    {
      "cell_type": "code",
      "source": [
        "from torch_geometric.utils import to_dense_adj\n",
        "A_tilda= to_dense_adj(data.edge_index)[0]\n",
        "A_tilda+=torch.eye(A_tilda.shape[0])\n",
        "print(A_tilda.shape)\n",
        "A_tilda"
      ],
      "metadata": {
        "colab": {
          "base_uri": "https://localhost:8080/"
        },
        "id": "CIUYtEsOiu_L",
        "outputId": "0b1be8ce-8257-4d94-825e-b9e28606a94f"
      },
      "execution_count": 13,
      "outputs": [
        {
          "output_type": "stream",
          "name": "stdout",
          "text": [
            "torch.Size([22470, 22470])\n"
          ]
        },
        {
          "output_type": "execute_result",
          "data": {
            "text/plain": [
              "tensor([[1., 0., 0.,  ..., 0., 0., 0.],\n",
              "        [0., 1., 0.,  ..., 0., 0., 0.],\n",
              "        [0., 0., 1.,  ..., 0., 0., 0.],\n",
              "        ...,\n",
              "        [0., 0., 0.,  ..., 1., 0., 0.],\n",
              "        [0., 0., 0.,  ..., 0., 1., 0.],\n",
              "        [0., 0., 0.,  ..., 0., 0., 1.]])"
            ]
          },
          "metadata": {},
          "execution_count": 13
        }
      ]
    },
    {
      "cell_type": "code",
      "source": [
        "import numpy as np\n",
        "import torch\n",
        "from torch.nn import Linear\n",
        "import torch.nn.functional as F\n",
        "#create GNN layer\n",
        "class GNN_layer_simple(torch.nn.Module):\n",
        "  # out=(A+I)XW\n",
        "  def __init__(self,dim_in, dim_out):\n",
        "    super().__init__()\n",
        "    self.Linear1=Linear(dim_in,dim_out,bias=False)\n",
        "\n",
        "  def forward(self,x,A_tilda):\n",
        "    x=self.Linear1(x) #N*h\n",
        "    x=torch.sparse.mm(A_tilda, x)\n",
        "    return x\n",
        "\n"
      ],
      "metadata": {
        "id": "gjGSOWi4AkwI"
      },
      "execution_count": 14,
      "outputs": []
    },
    {
      "cell_type": "code",
      "source": [
        "#create vanilla GNN\n",
        "class GNN(torch.nn.Module):\n",
        "  def __init__(self, dim_in,dim_h,dim_out):\n",
        "    super().__init__()\n",
        "    self.GNN1=GNN_layer_simple(dim_in,dim_h)\n",
        "    self.GNN2=GNN_layer_simple(dim_h,dim_out)\n",
        "\n",
        "  def forward(self,x):\n",
        "    x=self.GNN1(x,A_tilda)#N*dim_h\n",
        "    x=F.relu(x)\n",
        "    x=self.GNN2(x,A_tilda)#N*dim_out\n",
        "    return F.log_softmax(x,dim=1)\n",
        "\n",
        "\n",
        "  def fit(self,data,epochs):\n",
        "    criterion=torch.nn.CrossEntropyLoss() #input is N*c, c is num classes, target is N\n",
        "    optimizer=torch.optim.Adam(self.parameters(), lr=0.01, weight_decay=5e-4)\n",
        "\n",
        "    y=data.y#labels\n",
        "\n",
        "\n",
        "    for epoch in range(epochs+1):\n",
        "      out=self(data.x)#output of network forward pass\n",
        "      optimizer.zero_grad()\n",
        "      loss=criterion(out[data.train_mask],y[data.train_mask])\n",
        "      # print train loss and validation loss\n",
        "      if epoch%20==0:\n",
        "        val_loss=criterion(out[data.val_mask],y[data.val_mask])\n",
        "\n",
        "        train_acc= accuracy(torch.argmax(out[data.train_mask],dim=1), y[data.train_mask])\n",
        "        val_acc= accuracy(torch.argmax(out[data.val_mask],dim=1), y[data.val_mask])\n",
        "        print(f'Train Loss : {loss}')\n",
        "        print(f'Validation loss: {val_loss}')\n",
        "\n",
        "        print(f'Train acc: {train_acc}')\n",
        "        print(f'Val acc:{val_acc}')\n",
        "\n",
        "      loss.backward()\n",
        "      optimizer.step()\n",
        "\n",
        "  @torch.no_grad()\n",
        "  def test(self,data):\n",
        "    self.eval()\n",
        "    out=self(data.x)\n",
        "    y_pred= torch.argmax(out[data.test_mask],dim=1)\n",
        "    y_actual=data.y[data.test_mask]\n",
        "    accuracy=torch.sum(y_pred==y_actual)/len(y_pred)\n",
        "    print(f'Accuracy : {accuracy}')\n",
        ""
      ],
      "metadata": {
        "id": "a5xBPxkNNQif"
      },
      "execution_count": 15,
      "outputs": []
    },
    {
      "cell_type": "code",
      "source": [
        "gnn_model=GNN(dataset.num_features, 16, dataset.num_classes)\n",
        "print(gnn_model)"
      ],
      "metadata": {
        "colab": {
          "base_uri": "https://localhost:8080/"
        },
        "id": "-nuxpAxpIPtH",
        "outputId": "e68a7f2e-1a7f-4aae-d1f1-fb651f805e14"
      },
      "execution_count": 17,
      "outputs": [
        {
          "output_type": "stream",
          "name": "stdout",
          "text": [
            "GNN(\n",
            "  (GNN1): GNN_layer_simple(\n",
            "    (Linear1): Linear(in_features=128, out_features=16, bias=False)\n",
            "  )\n",
            "  (GNN2): GNN_layer_simple(\n",
            "    (Linear1): Linear(in_features=16, out_features=4, bias=False)\n",
            "  )\n",
            ")\n"
          ]
        }
      ]
    },
    {
      "cell_type": "code",
      "source": [
        "out_sample=gnn_model(data.x)"
      ],
      "metadata": {
        "id": "xYauuNqaWSW3"
      },
      "execution_count": 18,
      "outputs": []
    },
    {
      "cell_type": "code",
      "source": [
        "out_sample.shape"
      ],
      "metadata": {
        "colab": {
          "base_uri": "https://localhost:8080/"
        },
        "id": "So0vsZYAYvw8",
        "outputId": "92207ff1-f35d-4e30-8d7c-c7e2486c3d05"
      },
      "execution_count": 19,
      "outputs": [
        {
          "output_type": "execute_result",
          "data": {
            "text/plain": [
              "torch.Size([22470, 4])"
            ]
          },
          "metadata": {},
          "execution_count": 19
        }
      ]
    },
    {
      "cell_type": "code",
      "source": [
        "gnn_model.fit(data,epochs=100)"
      ],
      "metadata": {
        "colab": {
          "base_uri": "https://localhost:8080/"
        },
        "id": "rm_K_OkfO2sD",
        "outputId": "4bc28216-d6a2-4f31-f94f-cae0ed6ee6c4"
      },
      "execution_count": 20,
      "outputs": [
        {
          "output_type": "stream",
          "name": "stdout",
          "text": [
            "Train Loss : 34.784034729003906\n",
            "Validation loss: 29.348726272583008\n",
            "Train acc: 0.4033333361148834\n",
            "Val acc:0.4082041084766388\n",
            "Train Loss : 3.8205816745758057\n",
            "Validation loss: 2.3993897438049316\n",
            "Train acc: 0.8216666579246521\n",
            "Val acc:0.8304151892662048\n",
            "Train Loss : 1.276506781578064\n",
            "Validation loss: 0.9820217490196228\n",
            "Train acc: 0.8270000219345093\n",
            "Val acc:0.8299149870872498\n",
            "Train Loss : 0.6856522560119629\n",
            "Validation loss: 0.6403438448905945\n",
            "Train acc: 0.8379999995231628\n",
            "Val acc:0.8379189372062683\n",
            "Train Loss : 0.5255650281906128\n",
            "Validation loss: 0.5156439542770386\n",
            "Train acc: 0.8639444708824158\n",
            "Val acc:0.8649324774742126\n",
            "Train Loss : 0.473837286233902\n",
            "Validation loss: 0.4653433561325073\n",
            "Train acc: 0.875333309173584\n",
            "Val acc:0.8774387240409851\n"
          ]
        }
      ]
    },
    {
      "cell_type": "code",
      "source": [
        "gnn_model.test(data)"
      ],
      "metadata": {
        "colab": {
          "base_uri": "https://localhost:8080/"
        },
        "id": "fzz5tBSIOumS",
        "outputId": "cd8f149b-f3fb-48ee-fdba-12dc8d4f0655"
      },
      "execution_count": 20,
      "outputs": [
        {
          "output_type": "stream",
          "name": "stdout",
          "text": [
            "Accuracy : 0.44390439987182617\n"
          ]
        }
      ]
    }
  ]
}